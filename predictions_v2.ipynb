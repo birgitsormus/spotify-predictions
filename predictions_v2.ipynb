{
 "cells": [
  {
   "cell_type": "markdown",
   "metadata": {},
   "source": [
    "## Preprocessing the data"
   ]
  },
  {
   "cell_type": "code",
   "execution_count": 1,
   "metadata": {},
   "outputs": [],
   "source": [
    "import pandas as pd"
   ]
  },
  {
   "cell_type": "code",
   "execution_count": 2,
   "metadata": {},
   "outputs": [],
   "source": [
    "data = pd.read_csv(\"data/SpotifyFeatures.csv\").drop_duplicates(subset=['artist_name', 'track_name'])\n",
    "top2017 = pd.read_csv(\"data/featuresdf2017.csv\").drop(columns=['id', 'time_signature', 'mode'])\n",
    "top2018 = pd.read_csv(\"data/featuresdf2017.csv\").drop(columns=['id', 'time_signature', 'mode'])\n"
   ]
  },
  {
   "cell_type": "code",
   "execution_count": 3,
   "metadata": {},
   "outputs": [],
   "source": [
    "data = data.replace({'key':{'A':0, 'A#':1, 'B':2, 'C':3, 'C#':4, 'D':5, 'D#':6, 'E':7, 'F':8, 'F#':9, 'G':10, 'G#':11}})\n",
    "\n",
    "data['track_name'] = data['track_name'].apply(lambda x: len(x)); \n",
    "data['artist_name'] = data['artist_name'].apply(lambda x: len(x))\n",
    "\n",
    "top2017['name'] = top2017['name'].apply(lambda x: len(x)); top2017['artists'] = top2017['artists'].apply(lambda x: len(x))\n",
    "top2018['name'] = top2018['name'].apply(lambda x: len(x)); top2018['artists'] = top2018['artists'].apply(lambda x: len(x))\n",
    "\n",
    "# unique tracks\n",
    "data = data.drop_duplicates(subset=['track_id']).drop(columns=['genre','track_id','time_signature'])\n",
    "\n",
    "# discard songs somewhere in between\n",
    "data = data[(data['popularity'] <40) | (data['popularity'] > 60)] # < 30 improves result even more\n",
    "\n",
    "# > 50 is popular\n",
    "data['popularity'] = data['popularity'].apply(lambda x: 1 if x > 60 else 0);\n",
    "\n",
    "data= data.rename(columns={'artist_name':'artists', 'track_name':'name','popularity':'popularity_class'})\n",
    "data = data[['name', 'artists', 'danceability', 'energy', 'key', 'loudness','speechiness', 'acousticness', 'instrumentalness', 'liveness','valence', 'tempo', 'duration_ms','popularity_class']]"
   ]
  },
  {
   "cell_type": "code",
   "execution_count": 4,
   "metadata": {},
   "outputs": [
    {
     "name": "stdout",
     "output_type": "stream",
     "text": [
      "data\t\ttop2017\n",
      "------------------------\n",
      "name \t\t name\n",
      "artists \t artists\n",
      "danceability \t danceability\n",
      "energy \t\t energy\n",
      "key \t\t key\n",
      "loudness \t loudness\n",
      "speechiness \t speechiness\n",
      "acousticness \t acousticness\n",
      "instrumentalness  instrumentalness\n",
      "liveness \t liveness\n",
      "valence \t valence\n",
      "tempo \t\t tempo\n",
      "duration_ms \t duration_ms\n"
     ]
    }
   ],
   "source": [
    "print(f\"data\\t\\ttop2017\\n------------------------\")\n",
    "for a, b in zip(data.columns,top2017.columns):\n",
    "    print(a,'\\t\\t' if len(a) < 7 else '\\t' if len(a) < 14 else '',b)"
   ]
  },
  {
   "cell_type": "code",
   "execution_count": 5,
   "metadata": {},
   "outputs": [
    {
     "data": {
      "text/plain": [
       "0    97799\n",
       "1    13320\n",
       "Name: popularity_class, dtype: int64"
      ]
     },
     "execution_count": 5,
     "metadata": {},
     "output_type": "execute_result"
    }
   ],
   "source": [
    "data['popularity_class'].value_counts()"
   ]
  },
  {
   "cell_type": "code",
   "execution_count": 6,
   "metadata": {},
   "outputs": [
    {
     "data": {
      "text/html": [
       "<div>\n",
       "<style scoped>\n",
       "    .dataframe tbody tr th:only-of-type {\n",
       "        vertical-align: middle;\n",
       "    }\n",
       "\n",
       "    .dataframe tbody tr th {\n",
       "        vertical-align: top;\n",
       "    }\n",
       "\n",
       "    .dataframe thead th {\n",
       "        text-align: right;\n",
       "    }\n",
       "</style>\n",
       "<table border=\"1\" class=\"dataframe\">\n",
       "  <thead>\n",
       "    <tr style=\"text-align: right;\">\n",
       "      <th></th>\n",
       "      <th>name</th>\n",
       "      <th>artists</th>\n",
       "      <th>danceability</th>\n",
       "      <th>energy</th>\n",
       "      <th>key</th>\n",
       "      <th>loudness</th>\n",
       "      <th>speechiness</th>\n",
       "      <th>acousticness</th>\n",
       "      <th>instrumentalness</th>\n",
       "      <th>liveness</th>\n",
       "      <th>valence</th>\n",
       "      <th>tempo</th>\n",
       "      <th>duration_ms</th>\n",
       "    </tr>\n",
       "  </thead>\n",
       "  <tbody>\n",
       "    <tr>\n",
       "      <th>0</th>\n",
       "      <td>12</td>\n",
       "      <td>10</td>\n",
       "      <td>0.825</td>\n",
       "      <td>0.652</td>\n",
       "      <td>1.0</td>\n",
       "      <td>-3.183</td>\n",
       "      <td>0.0802</td>\n",
       "      <td>0.5810</td>\n",
       "      <td>0.000000</td>\n",
       "      <td>0.0931</td>\n",
       "      <td>0.931</td>\n",
       "      <td>95.977</td>\n",
       "      <td>233713.0</td>\n",
       "    </tr>\n",
       "    <tr>\n",
       "      <th>1</th>\n",
       "      <td>17</td>\n",
       "      <td>10</td>\n",
       "      <td>0.694</td>\n",
       "      <td>0.815</td>\n",
       "      <td>2.0</td>\n",
       "      <td>-4.328</td>\n",
       "      <td>0.1200</td>\n",
       "      <td>0.2290</td>\n",
       "      <td>0.000000</td>\n",
       "      <td>0.0924</td>\n",
       "      <td>0.813</td>\n",
       "      <td>88.931</td>\n",
       "      <td>228827.0</td>\n",
       "    </tr>\n",
       "    <tr>\n",
       "      <th>2</th>\n",
       "      <td>34</td>\n",
       "      <td>10</td>\n",
       "      <td>0.660</td>\n",
       "      <td>0.786</td>\n",
       "      <td>2.0</td>\n",
       "      <td>-4.757</td>\n",
       "      <td>0.1700</td>\n",
       "      <td>0.2090</td>\n",
       "      <td>0.000000</td>\n",
       "      <td>0.1120</td>\n",
       "      <td>0.846</td>\n",
       "      <td>177.833</td>\n",
       "      <td>228200.0</td>\n",
       "    </tr>\n",
       "    <tr>\n",
       "      <th>3</th>\n",
       "      <td>24</td>\n",
       "      <td>16</td>\n",
       "      <td>0.617</td>\n",
       "      <td>0.635</td>\n",
       "      <td>11.0</td>\n",
       "      <td>-6.769</td>\n",
       "      <td>0.0317</td>\n",
       "      <td>0.0498</td>\n",
       "      <td>0.000014</td>\n",
       "      <td>0.1640</td>\n",
       "      <td>0.446</td>\n",
       "      <td>103.019</td>\n",
       "      <td>247160.0</td>\n",
       "    </tr>\n",
       "    <tr>\n",
       "      <th>4</th>\n",
       "      <td>11</td>\n",
       "      <td>9</td>\n",
       "      <td>0.609</td>\n",
       "      <td>0.668</td>\n",
       "      <td>7.0</td>\n",
       "      <td>-4.284</td>\n",
       "      <td>0.0367</td>\n",
       "      <td>0.0552</td>\n",
       "      <td>0.000000</td>\n",
       "      <td>0.1670</td>\n",
       "      <td>0.811</td>\n",
       "      <td>80.924</td>\n",
       "      <td>288600.0</td>\n",
       "    </tr>\n",
       "  </tbody>\n",
       "</table>\n",
       "</div>"
      ],
      "text/plain": [
       "   name  artists  danceability  energy   key  loudness  speechiness  \\\n",
       "0    12       10         0.825   0.652   1.0    -3.183       0.0802   \n",
       "1    17       10         0.694   0.815   2.0    -4.328       0.1200   \n",
       "2    34       10         0.660   0.786   2.0    -4.757       0.1700   \n",
       "3    24       16         0.617   0.635  11.0    -6.769       0.0317   \n",
       "4    11        9         0.609   0.668   7.0    -4.284       0.0367   \n",
       "\n",
       "   acousticness  instrumentalness  liveness  valence    tempo  duration_ms  \n",
       "0        0.5810          0.000000    0.0931    0.931   95.977     233713.0  \n",
       "1        0.2290          0.000000    0.0924    0.813   88.931     228827.0  \n",
       "2        0.2090          0.000000    0.1120    0.846  177.833     228200.0  \n",
       "3        0.0498          0.000014    0.1640    0.446  103.019     247160.0  \n",
       "4        0.0552          0.000000    0.1670    0.811   80.924     288600.0  "
      ]
     },
     "execution_count": 6,
     "metadata": {},
     "output_type": "execute_result"
    }
   ],
   "source": [
    "top2017.head()"
   ]
  },
  {
   "cell_type": "code",
   "execution_count": 7,
   "metadata": {},
   "outputs": [
    {
     "data": {
      "text/html": [
       "<div>\n",
       "<style scoped>\n",
       "    .dataframe tbody tr th:only-of-type {\n",
       "        vertical-align: middle;\n",
       "    }\n",
       "\n",
       "    .dataframe tbody tr th {\n",
       "        vertical-align: top;\n",
       "    }\n",
       "\n",
       "    .dataframe thead th {\n",
       "        text-align: right;\n",
       "    }\n",
       "</style>\n",
       "<table border=\"1\" class=\"dataframe\">\n",
       "  <thead>\n",
       "    <tr style=\"text-align: right;\">\n",
       "      <th></th>\n",
       "      <th>name</th>\n",
       "      <th>artists</th>\n",
       "      <th>danceability</th>\n",
       "      <th>energy</th>\n",
       "      <th>key</th>\n",
       "      <th>loudness</th>\n",
       "      <th>speechiness</th>\n",
       "      <th>acousticness</th>\n",
       "      <th>instrumentalness</th>\n",
       "      <th>liveness</th>\n",
       "      <th>valence</th>\n",
       "      <th>tempo</th>\n",
       "      <th>duration_ms</th>\n",
       "      <th>popularity_class</th>\n",
       "    </tr>\n",
       "  </thead>\n",
       "  <tbody>\n",
       "    <tr>\n",
       "      <th>0</th>\n",
       "      <td>27</td>\n",
       "      <td>14</td>\n",
       "      <td>0.389</td>\n",
       "      <td>0.910</td>\n",
       "      <td>4</td>\n",
       "      <td>-1.828</td>\n",
       "      <td>0.0525</td>\n",
       "      <td>0.611</td>\n",
       "      <td>0.000</td>\n",
       "      <td>0.3460</td>\n",
       "      <td>0.814</td>\n",
       "      <td>166.969</td>\n",
       "      <td>99373</td>\n",
       "      <td>0</td>\n",
       "    </tr>\n",
       "    <tr>\n",
       "      <th>1</th>\n",
       "      <td>32</td>\n",
       "      <td>17</td>\n",
       "      <td>0.590</td>\n",
       "      <td>0.737</td>\n",
       "      <td>9</td>\n",
       "      <td>-5.559</td>\n",
       "      <td>0.0868</td>\n",
       "      <td>0.246</td>\n",
       "      <td>0.000</td>\n",
       "      <td>0.1510</td>\n",
       "      <td>0.816</td>\n",
       "      <td>174.003</td>\n",
       "      <td>137373</td>\n",
       "      <td>0</td>\n",
       "    </tr>\n",
       "    <tr>\n",
       "      <th>2</th>\n",
       "      <td>30</td>\n",
       "      <td>15</td>\n",
       "      <td>0.663</td>\n",
       "      <td>0.131</td>\n",
       "      <td>3</td>\n",
       "      <td>-13.879</td>\n",
       "      <td>0.0362</td>\n",
       "      <td>0.952</td>\n",
       "      <td>0.000</td>\n",
       "      <td>0.1030</td>\n",
       "      <td>0.368</td>\n",
       "      <td>99.488</td>\n",
       "      <td>170267</td>\n",
       "      <td>0</td>\n",
       "    </tr>\n",
       "    <tr>\n",
       "      <th>3</th>\n",
       "      <td>30</td>\n",
       "      <td>14</td>\n",
       "      <td>0.240</td>\n",
       "      <td>0.326</td>\n",
       "      <td>4</td>\n",
       "      <td>-12.178</td>\n",
       "      <td>0.0395</td>\n",
       "      <td>0.703</td>\n",
       "      <td>0.000</td>\n",
       "      <td>0.0985</td>\n",
       "      <td>0.227</td>\n",
       "      <td>171.758</td>\n",
       "      <td>152427</td>\n",
       "      <td>0</td>\n",
       "    </tr>\n",
       "    <tr>\n",
       "      <th>4</th>\n",
       "      <td>9</td>\n",
       "      <td>12</td>\n",
       "      <td>0.331</td>\n",
       "      <td>0.225</td>\n",
       "      <td>8</td>\n",
       "      <td>-21.150</td>\n",
       "      <td>0.0456</td>\n",
       "      <td>0.950</td>\n",
       "      <td>0.123</td>\n",
       "      <td>0.2020</td>\n",
       "      <td>0.390</td>\n",
       "      <td>140.576</td>\n",
       "      <td>82625</td>\n",
       "      <td>0</td>\n",
       "    </tr>\n",
       "  </tbody>\n",
       "</table>\n",
       "</div>"
      ],
      "text/plain": [
       "   name  artists  danceability  energy  key  loudness  speechiness  \\\n",
       "0    27       14         0.389   0.910    4    -1.828       0.0525   \n",
       "1    32       17         0.590   0.737    9    -5.559       0.0868   \n",
       "2    30       15         0.663   0.131    3   -13.879       0.0362   \n",
       "3    30       14         0.240   0.326    4   -12.178       0.0395   \n",
       "4     9       12         0.331   0.225    8   -21.150       0.0456   \n",
       "\n",
       "   acousticness  instrumentalness  liveness  valence    tempo  duration_ms  \\\n",
       "0         0.611             0.000    0.3460    0.814  166.969        99373   \n",
       "1         0.246             0.000    0.1510    0.816  174.003       137373   \n",
       "2         0.952             0.000    0.1030    0.368   99.488       170267   \n",
       "3         0.703             0.000    0.0985    0.227  171.758       152427   \n",
       "4         0.950             0.123    0.2020    0.390  140.576        82625   \n",
       "\n",
       "   popularity_class  \n",
       "0                 0  \n",
       "1                 0  \n",
       "2                 0  \n",
       "3                 0  \n",
       "4                 0  "
      ]
     },
     "execution_count": 7,
     "metadata": {},
     "output_type": "execute_result"
    }
   ],
   "source": [
    "data.head()"
   ]
  },
  {
   "cell_type": "code",
   "execution_count": 8,
   "metadata": {},
   "outputs": [],
   "source": [
    "from sklearn.model_selection import train_test_split\n",
    "X_train, X_test, y_train, y_test = train_test_split(data.drop(columns=['popularity_class']), data['popularity_class'], test_size=0.2, random_state=0)"
   ]
  },
  {
   "cell_type": "code",
   "execution_count": 9,
   "metadata": {},
   "outputs": [
    {
     "data": {
      "text/plain": [
       "Counter({0: 78290, 1: 10605})"
      ]
     },
     "execution_count": 9,
     "metadata": {},
     "output_type": "execute_result"
    }
   ],
   "source": [
    "from collections import Counter\n",
    "Counter(y_train)"
   ]
  },
  {
   "cell_type": "markdown",
   "metadata": {},
   "source": [
    "## Model training and initial testing"
   ]
  },
  {
   "cell_type": "code",
   "execution_count": 10,
   "metadata": {},
   "outputs": [],
   "source": [
    "from sklearn.ensemble import RandomForestClassifier\n",
    "from sklearn.neighbors import KNeighborsClassifier\n",
    "from sklearn.tree import DecisionTreeClassifier"
   ]
  },
  {
   "cell_type": "code",
   "execution_count": 11,
   "metadata": {},
   "outputs": [],
   "source": [
    "rf = RandomForestClassifier(n_estimators=100)"
   ]
  },
  {
   "cell_type": "code",
   "execution_count": 12,
   "metadata": {},
   "outputs": [
    {
     "data": {
      "text/plain": [
       "RandomForestClassifier(bootstrap=True, class_weight=None, criterion='gini',\n",
       "                       max_depth=None, max_features='auto', max_leaf_nodes=None,\n",
       "                       min_impurity_decrease=0.0, min_impurity_split=None,\n",
       "                       min_samples_leaf=1, min_samples_split=2,\n",
       "                       min_weight_fraction_leaf=0.0, n_estimators=100,\n",
       "                       n_jobs=None, oob_score=False, random_state=None,\n",
       "                       verbose=0, warm_start=False)"
      ]
     },
     "execution_count": 12,
     "metadata": {},
     "output_type": "execute_result"
    }
   ],
   "source": [
    "rf.fit(X_train, y_train)"
   ]
  },
  {
   "cell_type": "code",
   "execution_count": 13,
   "metadata": {},
   "outputs": [
    {
     "data": {
      "text/plain": [
       "KNeighborsClassifier(algorithm='auto', leaf_size=30, metric='minkowski',\n",
       "                     metric_params=None, n_jobs=None, n_neighbors=100, p=2,\n",
       "                     weights='uniform')"
      ]
     },
     "execution_count": 13,
     "metadata": {},
     "output_type": "execute_result"
    }
   ],
   "source": [
    "knn = KNeighborsClassifier(n_neighbors=100)\n",
    "knn.fit(X_train, y_train)"
   ]
  },
  {
   "cell_type": "code",
   "execution_count": 14,
   "metadata": {},
   "outputs": [
    {
     "data": {
      "text/plain": [
       "DecisionTreeClassifier(class_weight=None, criterion='gini', max_depth=None,\n",
       "                       max_features=None, max_leaf_nodes=None,\n",
       "                       min_impurity_decrease=0.0, min_impurity_split=None,\n",
       "                       min_samples_leaf=1, min_samples_split=2,\n",
       "                       min_weight_fraction_leaf=0.0, presort=False,\n",
       "                       random_state=None, splitter='best')"
      ]
     },
     "execution_count": 14,
     "metadata": {},
     "output_type": "execute_result"
    }
   ],
   "source": [
    "dtc = DecisionTreeClassifier()\n",
    "dtc.fit(X_train, y_train)"
   ]
  },
  {
   "cell_type": "code",
   "execution_count": 15,
   "metadata": {},
   "outputs": [],
   "source": [
    "from sklearn.metrics import accuracy_score"
   ]
  },
  {
   "cell_type": "code",
   "execution_count": 16,
   "metadata": {},
   "outputs": [
    {
     "name": "stdout",
     "output_type": "stream",
     "text": [
      "random forest accuracy 0.8932685385169187\n",
      "k nearest neighbors accuracy 0.8778347732181425\n",
      "decision tree accuracy 0.8334683225341972\n"
     ]
    }
   ],
   "source": [
    "y_pred_rf = rf.predict(X_test)\n",
    "y_pred_knn = knn.predict(X_test)\n",
    "y_pred_dtc = dtc.predict(X_test)\n",
    "\n",
    "print(\"random forest accuracy\", accuracy_score(y_test, y_pred_rf))\n",
    "print(\"k nearest neighbors accuracy\", accuracy_score(y_test, y_pred_knn))\n",
    "print(\"decision tree accuracy\", accuracy_score(y_test, y_pred_dtc))"
   ]
  },
  {
   "cell_type": "markdown",
   "metadata": {},
   "source": [
    "## Cross-validation"
   ]
  },
  {
   "cell_type": "code",
   "execution_count": 17,
   "metadata": {},
   "outputs": [],
   "source": [
    "from sklearn.model_selection import cross_validate"
   ]
  },
  {
   "cell_type": "code",
   "execution_count": 18,
   "metadata": {},
   "outputs": [],
   "source": [
    "rf = RandomForestClassifier(n_estimators=100)\n",
    "cv_results_rf = cross_validate(rf, data, data['popularity_class'], cv=5, return_train_score=True)"
   ]
  },
  {
   "cell_type": "code",
   "execution_count": 19,
   "metadata": {},
   "outputs": [
    {
     "name": "stdout",
     "output_type": "stream",
     "text": [
      "random forest cross-validation\n",
      "[1. 1. 1. 1. 1.]\n",
      "[1. 1. 1. 1. 1.]\n",
      "1.0\n"
     ]
    }
   ],
   "source": [
    "print(\"random forest cross-validation\")\n",
    "print(cv_results_rf[\"test_score\"])\n",
    "print(cv_results_rf[\"train_score\"])\n",
    "print(cv_results_rf[\"test_score\"].mean())"
   ]
  },
  {
   "cell_type": "code",
   "execution_count": 20,
   "metadata": {},
   "outputs": [],
   "source": [
    "knn = KNeighborsClassifier(n_neighbors=100)\n",
    "cv_results_knn = cross_validate(knn, data, data['popularity_class'], cv=5, return_train_score=True)"
   ]
  },
  {
   "cell_type": "code",
   "execution_count": 21,
   "metadata": {},
   "outputs": [
    {
     "name": "stdout",
     "output_type": "stream",
     "text": [
      "k nearest neighbors cross-validation\n",
      "[0.88012959 0.88012959 0.88012959 0.88012959 0.8801242 ]\n",
      "[0.88012824 0.88012824 0.88012824 0.88012824 0.88012959]\n",
      "0.8801285108368939\n"
     ]
    }
   ],
   "source": [
    "print(\"k nearest neighbors cross-validation\")\n",
    "print(cv_results_knn[\"test_score\"])\n",
    "print(cv_results_knn[\"train_score\"])\n",
    "print(cv_results_knn[\"test_score\"].mean())"
   ]
  },
  {
   "cell_type": "code",
   "execution_count": 22,
   "metadata": {},
   "outputs": [],
   "source": [
    "dtc = DecisionTreeClassifier()\n",
    "cv_results_dtc = cross_validate(dtc, data, data['popularity_class'], cv=5, return_train_score=True)"
   ]
  },
  {
   "cell_type": "code",
   "execution_count": 23,
   "metadata": {},
   "outputs": [
    {
     "name": "stdout",
     "output_type": "stream",
     "text": [
      "decision tree cross-validation\n",
      "[1. 1. 1. 1. 1.]\n",
      "[1. 1. 1. 1. 1.]\n",
      "1.0\n"
     ]
    }
   ],
   "source": [
    "print(\"decision tree cross-validation\")\n",
    "print(cv_results_dtc[\"test_score\"])\n",
    "print(cv_results_dtc[\"train_score\"])\n",
    "print(cv_results_dtc[\"test_score\"].mean())"
   ]
  },
  {
   "cell_type": "markdown",
   "metadata": {},
   "source": [
    "## Testing on 2017|2018 top"
   ]
  },
  {
   "cell_type": "code",
   "execution_count": 24,
   "metadata": {},
   "outputs": [
    {
     "data": {
      "text/plain": [
       "Index(['name', 'artists', 'danceability', 'energy', 'key', 'loudness',\n",
       "       'speechiness', 'acousticness', 'instrumentalness', 'liveness',\n",
       "       'valence', 'tempo', 'duration_ms'],\n",
       "      dtype='object')"
      ]
     },
     "execution_count": 24,
     "metadata": {},
     "output_type": "execute_result"
    }
   ],
   "source": [
    "X_top2017 = top2017\n",
    "X_top2017.columns"
   ]
  },
  {
   "cell_type": "markdown",
   "metadata": {},
   "source": [
    "still fitting on X_train and y_train because those are balanced"
   ]
  },
  {
   "cell_type": "code",
   "execution_count": 25,
   "metadata": {},
   "outputs": [
    {
     "data": {
      "text/plain": [
       "RandomForestClassifier(bootstrap=True, class_weight=None, criterion='gini',\n",
       "                       max_depth=None, max_features='auto', max_leaf_nodes=None,\n",
       "                       min_impurity_decrease=0.0, min_impurity_split=None,\n",
       "                       min_samples_leaf=1, min_samples_split=2,\n",
       "                       min_weight_fraction_leaf=0.0, n_estimators=100,\n",
       "                       n_jobs=None, oob_score=False, random_state=None,\n",
       "                       verbose=0, warm_start=False)"
      ]
     },
     "execution_count": 25,
     "metadata": {},
     "output_type": "execute_result"
    }
   ],
   "source": [
    "rf.fit(X_train, y_train)"
   ]
  },
  {
   "cell_type": "code",
   "execution_count": 26,
   "metadata": {},
   "outputs": [
    {
     "data": {
      "text/plain": [
       "KNeighborsClassifier(algorithm='auto', leaf_size=30, metric='minkowski',\n",
       "                     metric_params=None, n_jobs=None, n_neighbors=100, p=2,\n",
       "                     weights='uniform')"
      ]
     },
     "execution_count": 26,
     "metadata": {},
     "output_type": "execute_result"
    }
   ],
   "source": [
    "knn.fit(X_train, y_train)"
   ]
  },
  {
   "cell_type": "code",
   "execution_count": 27,
   "metadata": {},
   "outputs": [
    {
     "data": {
      "text/plain": [
       "DecisionTreeClassifier(class_weight=None, criterion='gini', max_depth=None,\n",
       "                       max_features=None, max_leaf_nodes=None,\n",
       "                       min_impurity_decrease=0.0, min_impurity_split=None,\n",
       "                       min_samples_leaf=1, min_samples_split=2,\n",
       "                       min_weight_fraction_leaf=0.0, presort=False,\n",
       "                       random_state=None, splitter='best')"
      ]
     },
     "execution_count": 27,
     "metadata": {},
     "output_type": "execute_result"
    }
   ],
   "source": [
    "dtc.fit(X_train, y_train)"
   ]
  },
  {
   "cell_type": "code",
   "execution_count": 28,
   "metadata": {},
   "outputs": [
    {
     "name": "stdout",
     "output_type": "stream",
     "text": [
      "random forest accuracy (2017 top) 0.72\n",
      "k nearest neighbors accuracy (2017 top) 0.0\n",
      "decision tree accuracy (2017 top) 0.68\n"
     ]
    }
   ],
   "source": [
    "y_pred_2017_rf = rf.predict(X_top2017)\n",
    "y_pred_2017_knn = knn.predict(X_top2017)\n",
    "y_pred_2017_dtc = dtc.predict(X_top2017)\n",
    "\n",
    "print(\"random forest accuracy (2017 top)\", accuracy_score([1]*100, y_pred_2017_rf))\n",
    "print(\"k nearest neighbors accuracy (2017 top)\", accuracy_score([1]*100, y_pred_2017_knn))\n",
    "print(\"decision tree accuracy (2017 top)\", accuracy_score([1]*100, y_pred_2017_dtc))"
   ]
  },
  {
   "cell_type": "code",
   "execution_count": 29,
   "metadata": {},
   "outputs": [
    {
     "name": "stdout",
     "output_type": "stream",
     "text": [
      "random forest accuracy (2018 top) 0.72\n",
      "k nearest neighbors accuracy (2018 top) 0.0\n",
      "decision tree accuracy (2018 top) 0.68\n"
     ]
    }
   ],
   "source": [
    "y_pred_2018_rf = rf.predict(top2018)\n",
    "y_pred_2018_knn = knn.predict(top2018)\n",
    "y_pred_2018_dtc = dtc.predict(top2018)\n",
    "\n",
    "print(\"random forest accuracy (2018 top)\", accuracy_score([1]*100, y_pred_2018_rf))\n",
    "print(\"k nearest neighbors accuracy (2018 top)\", accuracy_score([1]*100, y_pred_2018_knn))\n",
    "print(\"decision tree accuracy (2018 top)\", accuracy_score([1]*100, y_pred_2018_dtc))"
   ]
  },
  {
   "cell_type": "code",
   "execution_count": 30,
   "metadata": {},
   "outputs": [
    {
     "name": "stdout",
     "output_type": "stream",
     "text": [
      "LinearRegression: 0.09374355787462633\n",
      "Ridge:            0.09374357460940232\n",
      "Lasso:            0.10715368964714947\n"
     ]
    }
   ],
   "source": [
    "from sklearn.linear_model import LinearRegression, Ridge, Lasso\n",
    "from sklearn.metrics import mean_squared_error\n",
    "\n",
    "reg = LinearRegression()\n",
    "reg.fit(X_train, y_train)\n",
    "print(f'LinearRegression: {mean_squared_error(y_test, reg.predict(X_test))}')\n",
    "\n",
    "mean_squared_error\n",
    "ridge = Ridge()\n",
    "ridge.fit(X_train, y_train)\n",
    "print(f'Ridge:            {mean_squared_error(y_test, ridge.predict(X_test))}')\n",
    "\n",
    "lasso = Lasso()\n",
    "lasso.fit(X_train, y_train)\n",
    "print(f'Lasso:            {mean_squared_error(y_test, lasso.predict(X_test))}')"
   ]
  },
  {
   "cell_type": "code",
   "execution_count": 31,
   "metadata": {},
   "outputs": [
    {
     "name": "stdout",
     "output_type": "stream",
     "text": [
      "name :\t -0.0\n",
      "artists :\t -0.0\n",
      "danceability :\t 0.0\n",
      "energy :\t 0.0\n",
      "key :\t 0.0\n",
      "loudness :\t 0.0\n",
      "speechiness :\t -0.0\n",
      "acousticness :\t -0.0\n",
      "instrumentalness :\t -0.0\n",
      "liveness :\t -0.0\n",
      "valence :\t 0.0\n",
      "tempo :\t 0.0\n",
      "duration_ms :\t -6.644119056356302e-08\n"
     ]
    }
   ],
   "source": [
    "for i, x in enumerate(lasso.coef_):\n",
    "      print(data.columns[i],\":\\t\", x)"
   ]
  },
  {
   "cell_type": "code",
   "execution_count": 32,
   "metadata": {},
   "outputs": [
    {
     "name": "stdout",
     "output_type": "stream",
     "text": [
      "0.8778347732181425\n",
      "0.8778347732181425\n",
      "0.8778347732181425\n"
     ]
    }
   ],
   "source": [
    "print(accuracy_score(y_test, [1 if x > 0.5 else 0 for x in reg.predict(X_test)]))\n",
    "print(accuracy_score(y_test, [1 if x > 0.5 else 0 for x in ridge.predict(X_test)]))\n",
    "print(accuracy_score(y_test, [1 if x > 0.5 else 0 for x in lasso.predict(X_test)]))"
   ]
  },
  {
   "cell_type": "code",
   "execution_count": 33,
   "metadata": {},
   "outputs": [
    {
     "name": "stdout",
     "output_type": "stream",
     "text": [
      "0.0\n",
      "0.0\n",
      "0.0\n"
     ]
    }
   ],
   "source": [
    "print(accuracy_score([1]*100, [1 if x > 0.5 else 0 for x in reg.predict(X_top2017)]))\n",
    "print(accuracy_score([1]*100, [1 if x > 0.5 else 0 for x in ridge.predict(X_top2017)]))\n",
    "print(accuracy_score([1]*100, [1 if x > 0.5 else 0 for x in lasso.predict(X_top2017)]))"
   ]
  }
 ],
 "metadata": {
  "kernelspec": {
   "display_name": "Python 3",
   "language": "python",
   "name": "python3"
  },
  "language_info": {
   "codemirror_mode": {
    "name": "ipython",
    "version": 3
   },
   "file_extension": ".py",
   "mimetype": "text/x-python",
   "name": "python",
   "nbconvert_exporter": "python",
   "pygments_lexer": "ipython3",
   "version": "3.7.3"
  }
 },
 "nbformat": 4,
 "nbformat_minor": 2
}
